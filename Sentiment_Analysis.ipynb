{
 "cells": [
  {
   "cell_type": "markdown",
   "id": "d7f68f79-92d7-41f8-86ec-5c22d25593eb",
   "metadata": {},
   "source": [
    "# Collecting Data\n",
    "\n",
    "```python\n",
    "keywords=['solar energy', 'composting', 'paper straws', 'electric vehicles']\n",
    "\n",
    "import scrape_yt_comments\n",
    "from scrape_yt_comments import *\n",
    "\n",
    "num_vids=150\n",
    "for keyword in keywords: \n",
    "    num=0\n",
    "    while num<num_vids:\n",
    "        try:\n",
    "            print(\"Searching for videos related to:\", keyword,\"...\") \n",
    "            vids=vid_by_kw(keyword)\n",
    "            num+=len(vids)\n",
    "            for i in vids:\n",
    "                print(f\"Retrieving comments on video {i[0]} which has {i[1]} comments\" )\n",
    "                com_by_vid(i[0],int(i[1]))\n",
    "        except Exception as e:\n",
    "            print('The error raised is:', e)\n",
    "            traceback_output = traceback.format_exc()\n",
    "            print(traceback_output)   \n",
    "            break\n",
    "```"
   ]
  },
  {
   "cell_type": "markdown",
   "id": "6f2e6d39-672e-4998-ab7c-58e0177f0a64",
   "metadata": {},
   "source": [
    "# Cleaning up\n",
    "\n",
    "```python\n",
    "import pandas as pd\n",
    "import sqlalchemy\n",
    "from sqlalchemy import create_engine\n",
    "URL_DB = 'sqlite:///capstone.db'\n",
    "db_engine = create_engine(URL_DB)\n",
    "conn=db_engine.connect()\n",
    "\n",
    "#schema=pd.read_sql_table('sqlite_master',conn)\n",
    "\n",
    "df_vids=pd.read_sql_table('youtube_videos',conn)\n",
    "df_vids=df_vids.astype({'publishedAt': 'datetime64[ns]','num_views':int, 'num_likes':'int','num_comments':int})\n",
    "\n",
    "df_comms=pd.read_sql_table('youtube_comments',conn)\n",
    "df_comms=df_comms.astype({'published_date': 'datetime64[ns]'})\n",
    "\n",
    "#Videos 1-150  -> solar energy (146 unique videos)\n",
    "l1=list(range(150))\n",
    "solar_vids=df_vids.iloc[l1].groupby(['video_url','title','description','publishedAt']).max().reset_index()\n",
    "solar_vids.to_sql('solar_energy_videos',con=conn,if_exists='replace',index=False)\n",
    "\n",
    "solar_comments=df_comms[df_comms['video_url'].isin(solar_vids['video_url'])]\n",
    "solar_comments=solar_comments.groupby(['comment_id']).max().reset_index()\n",
    "solar_comments.to_sql('solar_energy_comments',con=conn,if_exists='replace',index=False)\n",
    "\n",
    "\n",
    "\n",
    "#151-300 #set aside 301-1844 -> composting (654 unique videos)\n",
    "l2=list(range(150,300)) #l2=list(range(150,1845)) \n",
    "compost_vids=df_vids.iloc[l2].groupby(['video_url','title','description','publishedAt']).max().reset_index()\n",
    "compost_vids.to_sql('composting_videos',con=conn,if_exists='replace',index=False)\n",
    "\n",
    "compost_comments=df_comms[df_comms['video_url'].isin(compost_vids['video_url'])]\n",
    "compost_comments=compost_comments.groupby(['comment_id']).max().reset_index()\n",
    "compost_comments.to_sql('composting_comments',con=conn,if_exists='replace',index=False)\n",
    "\n",
    "\n",
    "#1845-1994 -> paper straws (142 unique videos)\n",
    "l3=list(range(1845,1995))\n",
    "straw_vids=df_vids.iloc[l3].groupby(['video_url','title','description','publishedAt']).max().reset_index()\n",
    "straw_vids.to_sql('paper_straws_videos',con=conn,if_exists='replace',index=False)\n",
    "\n",
    "straw_comments=df_comms[df_comms['video_url'].isin(straw_vids['video_url'])]\n",
    "straw_comments=straw_comments.drop_duplicates().groupby(['comment_id']).max().reset_index()\n",
    "straw_comments.to_sql('paper_straws_comments',con=conn,if_exists='replace',index=False)\n",
    "\n",
    "#1995-2144 -> electric vehicles (147 unique videos)\n",
    "l4=list(range(1995,2144))\n",
    "EV_vids=df_vids.iloc[l4].groupby(['video_url','title','description','publishedAt']).max().reset_index()\n",
    "EV_vids.to_sql('electric_vehicles_videos',con=conn,if_exists='replace',index=False)\n",
    "\n",
    "EV_comments=df_comms[df_comms['video_url'].isin(EV_vids['video_url'])]\n",
    "EV_comments=EV_comments.drop_duplicates().groupby(['comment_id']).max().reset_index()\n",
    "EV_comments.to_sql('electric_vehicles_comments',con=conn,if_exists='replace',index=False)\n",
    "```\n"
   ]
  },
  {
   "cell_type": "markdown",
   "id": "22a785d8-72f1-499a-909d-f88c1560b4ec",
   "metadata": {},
   "source": [
    "# Loading the Data For Analysis"
   ]
  },
  {
   "cell_type": "code",
   "execution_count": 2,
   "id": "de3ffd9b-2f38-4feb-9e0d-5c9379bcab0c",
   "metadata": {},
   "outputs": [
    {
     "name": "stdout",
     "output_type": "stream",
     "text": [
      "(146, 7)\n",
      "(183530, 6)\n",
      "(137, 7)\n",
      "(47133, 6)\n",
      "(142, 7)\n",
      "(30619, 6)\n",
      "(147, 7)\n",
      "(259811, 6)\n"
     ]
    }
   ],
   "source": [
    "import pandas as pd\n",
    "import sqlalchemy\n",
    "from sqlalchemy import create_engine\n",
    "URL_DB = 'sqlite:///capstone.db'\n",
    "db_engine = create_engine(URL_DB)\n",
    "conn=db_engine.connect()\n",
    "\n",
    "solar_vids=pd.read_sql_table('solar_energy_videos',conn)\n",
    "solar_comms=pd.read_sql_table('solar_energy_comments',conn)\n",
    "print(solar_vids.shape)\n",
    "print(solar_comms.shape)\n",
    "\n",
    "compost_vids=pd.read_sql_table('composting_videos',conn)\n",
    "compost_comms=pd.read_sql_table('composting_comments',conn)\n",
    "print(compost_vids.shape)\n",
    "print(compost_comms.shape)\n",
    "\n",
    "straw_vids=pd.read_sql_table('paper_straws_videos',conn)\n",
    "straw_comms=pd.read_sql_table('paper_straws_comments',conn)\n",
    "print(straw_vids.shape)\n",
    "print(straw_comms.shape)\n",
    "\n",
    "EV_vids=pd.read_sql_table('electric_vehicles_videos',conn)\n",
    "EV_comms=pd.read_sql_table('electric_vehicles_comments',conn)\n",
    "print(EV_vids.shape)\n",
    "print(EV_comms.shape)"
   ]
  },
  {
   "cell_type": "markdown",
   "id": "8d817b3f-ca4f-4317-aee0-7cc534e976c9",
   "metadata": {},
   "source": [
    "# Time-Series Analysis of Video Metrics (Comments, Likes, Views)"
   ]
  },
  {
   "cell_type": "code",
   "execution_count": 3,
   "id": "4362acf0-ad3c-4418-885b-9e2fa7a620ef",
   "metadata": {},
   "outputs": [],
   "source": [
    "import matplotlib\n",
    "import matplotlib.pyplot as plt\n",
    "\n",
    "import seaborn as sns\n",
    "sns.set()\n",
    "\n",
    "\n",
    "def plot_monthly(trend, vids_df, comms_df):\n",
    "    vid_count=(vids_df['publishedAt']\n",
    "    .dt.to_period('M')\n",
    "    .dt.to_timestamp()\n",
    "    .value_counts()\n",
    "    .sort_index()\n",
    "    .reset_index()\n",
    "    .rename(columns={'index': 'month','publishedAt':'num_videos'})\n",
    "    )\n",
    "\n",
    "    comm_count=(comms_df['published_date']\n",
    "    .dt.to_period('M')\n",
    "    .dt.to_timestamp()\n",
    "    .value_counts()\n",
    "    .sort_index()\n",
    "    .reset_index()\n",
    "    .rename(columns={'index': 'month','published_date':'num_comments'})\n",
    "    )\n",
    "\n",
    "    summary=vid_count.merge(comm_count, on='month',how='outer').fillna(0)\n",
    "    summary=summary.set_index('month')\n",
    "    summary=summary.sort_index()\n",
    "    summary['num_vids_pub']=summary['num_videos'].cumsum()\n",
    "    summary['norm_comm']=summary['num_comments']/summary['num_vids_pub']\n",
    "\n",
    "    fig, (ax1,ax2,ax3) = plt.subplots(nrows=3, sharex=True)\n",
    "    fig.suptitle(trend, fontsize=16, fontweight='bold',y=0.92)\n",
    "    fig.set_figheight(6.9)\n",
    "    fig.set_figwidth(5)\n",
    "    fig.align_ylabels()\n",
    "\n",
    "\n",
    "    plt.subplots_adjust(hspace=.1)# remove vertical gap between subplots\n",
    "    plt.xlabel('date published',fontsize=12, fontstyle='italic',fontweight='bold',labelpad=12)\n",
    "    plt.xticks(rotation=45)\n",
    "    \n",
    "    line1, = ax1.plot(summary['norm_comm'], color='b', marker='.', markersize=3)\n",
    "    line2, =  ax2.plot(summary['num_comments'], color='r', marker='.', markersize=3)\n",
    "    line3, =  ax3.plot(summary['num_videos'], color='g', marker='.', markersize=3)\n",
    "    line4, = ax3.plot(summary['num_vids_pub'],color='orange',marker='.', markersize=3)\n",
    "    \n",
    "    ax1.set_ylabel(r'$\\bf\\frac{no.\\ new \\ comments}{no.\\ existing\\ videos}$',fontsize=12)\n",
    "    ax2.set_ylabel('no. new comments',fontsize=10, fontstyle='italic',fontweight='bold')\n",
    "    ax3.set_ylabel('no. videos',fontsize=10, fontstyle='italic',fontweight='bold')\n",
    "    ax3.xaxis.set_major_locator(matplotlib.dates.YearLocator(base=1))\n",
    "    ax3.legend((line3,line4),('newly published','total so far'),loc='upper left')\n",
    "    \n",
    "    plt.savefig(trend.replace(\" \", \"_\")+'.jpg',bbox_inches='tight')\n",
    "    plt.close()\n",
    "    \n",
    "plot_monthly('solar energy', solar_vids, solar_comms)\n",
    "plot_monthly('composting', compost_vids, compost_comms)\n",
    "plot_monthly('paper straws', straw_vids, straw_comms)\n",
    "plot_monthly('electric vehicles', EV_vids, EV_comms)"
   ]
  },
  {
   "cell_type": "markdown",
   "id": "b07c3564-8e73-4159-8f79-2f2d95ecbd6c",
   "metadata": {},
   "source": [
    "| ![](solar_energy.jpg) | ![](composting.jpg) |\n",
    "|-|-|\n",
    "| ![](paper_straws.jpg) | ![](electric_vehicles.jpg) |"
   ]
  },
  {
   "cell_type": "code",
   "execution_count": 23,
   "id": "7db3c80f-05d4-4785-b357-cb4f4e6d7145",
   "metadata": {},
   "outputs": [],
   "source": [
    "trend='solar energy'\n",
    "vids_df=solar_vids\n",
    "comms_df=solar_comms\n",
    "\n",
    "def metrics_trend(trend, vids_df):\n",
    "\n",
    "    temp=vids_df[['publishedAt','num_views','num_likes','num_comments']].sort_values('publishedAt',ignore_index=True).set_index('publishedAt')\n",
    "    temp['views_cum_avg']=temp['num_views'].expanding().mean()\n",
    "    temp['views_cum_std']=temp['num_views'].expanding().std(ddof=0)\n",
    "    temp['likes_cum_avg']=temp['num_likes'].expanding().mean()\n",
    "    temp['likes_cum_std']=temp['num_likes'].expanding().std(ddof=0)\n",
    "    temp['comms_cum_avg']=temp['num_comments'].expanding().mean()\n",
    "    temp['comms_cum_std']=temp['num_comments'].expanding().std(ddof=0)\n",
    "\n",
    "    fig, (ax1,ax2,ax3) = plt.subplots(nrows=3, sharex=True)\n",
    "\n",
    "    fig.suptitle(trend, fontsize=16, fontweight='bold',y=0.92)\n",
    "    fig.set_figheight(6.9)\n",
    "    fig.set_figwidth(5)\n",
    "    fig.align_ylabels()\n",
    "\n",
    "\n",
    "    plt.subplots_adjust(hspace=.1)# remove vertical gap between subplots\n",
    "    plt.xlabel('video index (publication date-time)',fontsize=12, fontstyle='italic',fontweight='bold',labelpad=12)\n",
    "    plt.xticks(rotation=45)\n",
    "\n",
    "    line11, = ax1.plot(temp['num_views'], color='b', marker='.', markersize=3)\n",
    "    line12, =ax1.plot(temp['num_views'].expanding().mean(),color='orange',marker='.', markersize=3)\n",
    "    ax1.fill_between(temp.index,temp['views_cum_avg'] - temp['views_cum_std'], temp['views_cum_avg'] + temp['views_cum_std'], color='orange', alpha=0.2)\n",
    "    ax1.legend((line11,line12),('individual video','cum. avg.\\n (1 std range)'),loc='upper left',fontsize=8)\n",
    "    ax1.set_ylabel('no. views',fontsize=12, fontstyle='italic',fontweight='bold')\n",
    "    ax1.ticklabel_format(style='sci', scilimits=(0,0), axis='y', useOffset=True, useLocale=None, useMathText=True)\n",
    "\n",
    "    line21, =  ax2.plot(temp['num_likes'], color='r', marker='.', markersize=3)\n",
    "    line22, =ax2.plot(temp['num_likes'].expanding().mean(),color='orange',marker='.', markersize=3)\n",
    "    ax2.fill_between(temp.index,temp['likes_cum_avg'] - temp['likes_cum_std'], temp['likes_cum_avg'] + temp['likes_cum_std'], color='orange', alpha=0.2)\n",
    "    ax2.legend((line11,line12),('individual video','cum. avg. \\n(1 std range)'),loc='upper left',fontsize=8)\n",
    "    ax2.set_ylabel('no. likes',fontsize=12, fontstyle='italic',fontweight='bold')\n",
    "    ax2.ticklabel_format(axis='y', style='sci', scilimits=(0,0), useOffset=True, useLocale=None, useMathText=True)\n",
    "\n",
    "\n",
    "\n",
    "    ax3.legend((line11,line12),('individual video','cum. avg. (1 std range)'),loc='upper left',fontsize=8)\n",
    "    line31, =  ax3.plot(temp['num_comments'], color='g', marker='.', markersize=3)\n",
    "    line32, =ax3.plot(temp['num_comments'].expanding().mean(),color='orange',marker='.', markersize=3)\n",
    "    ax3.fill_between(temp.index,temp['comms_cum_avg'] - temp['comms_cum_std'], temp['comms_cum_avg'] + temp['comms_cum_std'], color='orange', alpha=0.2)\n",
    "    ax3.set_ylabel('no. comments',fontsize=12, fontstyle='italic',fontweight='bold')\n",
    "    ax3.ticklabel_format(axis='y', style='sci', scilimits=(0,0), useOffset=True, useLocale=None, useMathText=True)\n",
    "    ax3.xaxis.set_major_locator(matplotlib.dates.YearLocator(base=1))\n",
    "    \n",
    "    plt.savefig(trend.replace(\" \", \"_\")+'_metrics.jpg',bbox_inches='tight')\n",
    "    plt.close()\n",
    "\n",
    "metrics_trend('solar energy', solar_vids)\n",
    "metrics_trend('composting', compost_vids)\n",
    "metrics_trend('paper straws', straw_vids)\n",
    "metrics_trend('electric vehicles', EV_vids)"
   ]
  },
  {
   "cell_type": "markdown",
   "id": "bb0901c7-f132-49c4-8566-66d068dfae9c",
   "metadata": {},
   "source": [
    "| ![](solar_energy_metrics.jpg) | ![](composting_metrics.jpg) |\n",
    "|-|-|\n",
    "| ![](paper_straws_metrics.jpg) | ![](electric_vehicles_metrics.jpg) |"
   ]
  },
  {
   "cell_type": "code",
   "execution_count": 139,
   "id": "3648df70-02e7-48a7-bbd7-6004334899f0",
   "metadata": {},
   "outputs": [],
   "source": [
    "trend='solar energy'\n",
    "vids_df=solar_vids\n",
    "comms_df=solar_comms\n",
    "\n",
    "def days_after_vidpub(trend,vids_df,comms_df):\n",
    "    new_df=comms_df.merge(vids_df[['video_url','publishedAt']], on='video_url').rename(columns={'publishedAt':'video_pub_date'})\n",
    "    new_df['days_vid_to_comment']=(new_df['published_date'].dt.date-new_df['video_pub_date'].dt.date).dt.days\n",
    "    temp3=new_df.groupby(['video_url','days_vid_to_comment'])['comments'].count().reset_index()\n",
    "    grid=sns.lineplot(data=temp3, x='days_vid_to_comment', y='comments')\n",
    "    grid.set(xscale='log',yscale='log')\n",
    "    plt.title(trend,fontsize=16, fontweight='bold',y=0.92)\n",
    "    plt.xlabel('no. of days after video publication',fontsize=10, fontweight='bold', fontstyle='italic',)\n",
    "    plt.ylabel('avg. no. of new comments',fontsize=10, fontweight='bold', fontstyle='italic',)\n",
    "    plt.savefig(trend.replace(\" \", \"_\")+'_days.jpg',bbox_inches='tight')\n",
    "    plt.close()\n",
    "    \n",
    "days_after_vidpub('solar energy', solar_vids, solar_comms)\n",
    "days_after_vidpub('composting', compost_vids, compost_comms)\n",
    "days_after_vidpub('paper straws', straw_vids, straw_comms)\n",
    "days_after_vidpub('electric vehicles', EV_vids, EV_comms)"
   ]
  },
  {
   "cell_type": "markdown",
   "id": "08c26cb4-aa37-4c3d-a2b6-92f7a976559f",
   "metadata": {},
   "source": [
    "| ![](solar_energy_days.jpg) | ![](composting_days.jpg) |\n",
    "|-|-|\n",
    "| ![](paper_straws_days.jpg) | ![](electric_vehicles_days.jpg) |"
   ]
  },
  {
   "cell_type": "code",
   "execution_count": null,
   "id": "a32a0f8e-bfc0-407d-bdbc-506545326b49",
   "metadata": {},
   "outputs": [],
   "source": []
  },
  {
   "cell_type": "code",
   "execution_count": 126,
   "id": "ec7196db-674f-4126-b965-5ce42d00b0ac",
   "metadata": {},
   "outputs": [],
   "source": [
    "# import altair as alt\n",
    "# solar_vids\n",
    "# lp=alt.Chart(solar_vids).mark_line().encode(x='publishedAt',y='num_comments',tooltip=['title'])\n",
    "# lp"
   ]
  },
  {
   "cell_type": "code",
   "execution_count": 6,
   "id": "302e4338-ff4a-4d78-96bb-4fd28a17b129",
   "metadata": {},
   "outputs": [],
   "source": [
    "# from vaderSentiment.vaderSentiment import SentimentIntensityAnalyzer\n",
    "# sent_analyzer=SentimentIntensityAnalyzer()\n",
    "# solar_vids['title_sentiment']=solar_vids['title'].apply(sent_analyzer.polarity_scores).apply(lambda x: x['compound'])\n",
    "# solar_vids['desc_sentiment']=solar_vids['description'].apply(sent_analyzer.polarity_scores).apply(lambda x: x['compound'])\n",
    "\n",
    "\n",
    "# import textblob\n",
    "# from textblob import TextBlob\n",
    "# solar_vids['title_blob_sent']=solar_vids['title'].apply(lambda x: TextBlob(x).sentiment.polarity)\n",
    "# solar_vids['desc_blob_sent']=solar_vids['description'].apply(lambda x: TextBlob(x).sentiment.polarity)\n",
    "\n",
    "#string=\"Today is a good day.\"\n",
    "#blob=TextBlob(string)\n",
    "#blob_sent=blob.sentiment\n",
    "#blob_sent.subjectivity\n",
    "\n",
    "#solar_vids.sort_values('num_comments',ascending=False)[['description','date','num_comments','desc_sentiment']]\n",
    "#solar_vids[solar_vids['desc_sentiment']<0]\n",
    "#solar_vids\n",
    "# df_comms['polarity']=df_comms['comments'].apply(lambda x: TextBlob(x).sentiment.polarity)\n",
    "# df_comms['subjectivity']=df_comms['comments'].apply(lambda x: TextBlob(x).sentiment.subjectivity)"
   ]
  },
  {
   "cell_type": "code",
   "execution_count": 31,
   "id": "110dd6eb-69e5-4a85-9b7f-89cb1657eb0a",
   "metadata": {},
   "outputs": [],
   "source": []
  },
  {
   "cell_type": "markdown",
   "id": "18ba6a1a-dd1b-41ce-9c9d-3055604816b4",
   "metadata": {},
   "source": [
    "---------------------ignore-------------------------"
   ]
  },
  {
   "cell_type": "code",
   "execution_count": 30,
   "id": "3ebe214c-729d-42a6-87bb-8dca2c5fc0f6",
   "metadata": {},
   "outputs": [
    {
     "data": {
      "text/plain": [
       "(-0.5, 399.5, 199.5, -0.5)"
      ]
     },
     "execution_count": 30,
     "metadata": {},
     "output_type": "execute_result"
    },
    {
     "data": {
      "image/png": "[encoded data removed]",
      "text/plain": [
       "<Figure size 640x480 with 1 Axes>"
      ]
     },
     "metadata": {},
     "output_type": "display_data"
    }
   ],
   "source": [
    "import wordcloud\n",
    "from wordcloud import WordCloud, STOPWORDS\n",
    "import matplotlib.pyplot as plt\n",
    "\n",
    "my_stopwords=set(STOPWORDS)\n",
    "my_stopwords.update(['the','a','an'])\n",
    "my_cloud=WordCloud(background_color='white', stopwords=my_stopwords).generate(string)\n",
    "plt.imshow(my_cloud,interpolation='bilinear')\n",
    "plt.axis('off')\n",
    "plt.show()"
   ]
  },
  {
   "cell_type": "code",
   "execution_count": 29,
   "id": "c3f81b94-67db-4c15-9beb-80296b8846b7",
   "metadata": {},
   "outputs": [
    {
     "data": {
      "text/html": [
       "<div>\n",
       "<style scoped>\n",
       "    .dataframe tbody tr th:only-of-type {\n",
       "        vertical-align: middle;\n",
       "    }\n",
       "\n",
       "    .dataframe tbody tr th {\n",
       "        vertical-align: top;\n",
       "    }\n",
       "\n",
       "    .dataframe thead th {\n",
       "        text-align: right;\n",
       "    }\n",
       "</style>\n",
       "<table border=\"1\" class=\"dataframe\">\n",
       "  <thead>\n",
       "    <tr style=\"text-align: right;\">\n",
       "      <th></th>\n",
       "      <th>day</th>\n",
       "      <th>good</th>\n",
       "      <th>today</th>\n",
       "    </tr>\n",
       "  </thead>\n",
       "  <tbody>\n",
       "    <tr>\n",
       "      <th>0</th>\n",
       "      <td>1</td>\n",
       "      <td>1</td>\n",
       "      <td>1</td>\n",
       "    </tr>\n",
       "  </tbody>\n",
       "</table>\n",
       "</div>"
      ],
      "text/plain": [
       "   day  good  today\n",
       "0    1     1      1"
      ]
     },
     "execution_count": 29,
     "metadata": {},
     "output_type": "execute_result"
    }
   ],
   "source": [
    "import sklearn\n",
    "from sklearn.feature_extraction.text import CountVectorizer, TfidfVectorizer, ENGLISH_STOP_WORDS\n",
    "import pandas as pd\n",
    "\n",
    "my_stopwords=ENGLISH_STOP_WORDS.union(['the'])\n",
    "vect=CountVectorizer(token_pattern=r'\\b[a-z]+\\b',input='content', stop_words=my_stopwords) \n",
    "string_vect=vect.fit_transform([string])\n",
    "pd.DataFrame(string_vect.toarray(), columns=vect.get_feature_names_out())"
   ]
  },
  {
   "cell_type": "code",
   "execution_count": 39,
   "id": "2e2019ec-30ba-4b08-8a69-a57187e42955",
   "metadata": {},
   "outputs": [
    {
     "name": "stdout",
     "output_type": "stream",
     "text": [
      "['today', 'is', 'a', 'good', 'day', '.']\n",
      "beginn\n",
      "wonderful\n"
     ]
    }
   ],
   "source": [
    "import nltk \n",
    "from nltk import word_tokenize\n",
    "from nltk.stem import PorterStemmer, WordNetLemmatizer\n",
    "from nltk.stem.snowball import SnowballStemmer\n",
    "string_tokens=word_tokenize(string)\n",
    "\n",
    "porter=PorterStemmer()\n",
    "snowball=SnowballStemmer(\"dutch\")\n",
    "WNlemmatizer=WordNetLemmatizer()\n",
    "print([porter.stem(token) for token in string_tokens])\n",
    "print(snowball.stem('beginnen'))\n",
    "print(WNlemmatizer.lemmatize('wonderful', pos='a')) #'a' - adjective, 'n' - noun"
   ]
  },
  {
   "cell_type": "code",
   "execution_count": 25,
   "id": "f793f7d8-d521-41b6-b1d6-a503cf94c0d7",
   "metadata": {},
   "outputs": [
    {
     "data": {
      "text/plain": [
       "[es:0.9999943617637173]"
      ]
     },
     "execution_count": 25,
     "metadata": {},
     "output_type": "execute_result"
    }
   ],
   "source": [
    "from langdetect import detect_langs\n",
    "foreign=\"Este libro ha sido uno de los mejors libros que he leido\"\n",
    "detect_langs(foreign)"
   ]
  },
  {
   "cell_type": "code",
   "execution_count": 44,
   "id": "633386ef-be53-48ad-96f1-32c12590b6b5",
   "metadata": {},
   "outputs": [
    {
     "data": {
      "text/plain": [
       "{'neg': 0.0, 'neu': 0.508, 'pos': 0.492, 'compound': 0.4404}"
      ]
     },
     "execution_count": 44,
     "metadata": {},
     "output_type": "execute_result"
    }
   ],
   "source": [
    "import nltk\n",
    "from nltk.sentiment.vader import SentimentIntensityAnalyzer\n",
    "sid = SentimentIntensityAnalyzer()\n",
    "sid.polarity_scores(string)"
   ]
  },
  {
   "cell_type": "code",
   "execution_count": null,
   "id": "67becfc3-bad8-440d-920f-042a9e776f9b",
   "metadata": {},
   "outputs": [],
   "source": [
    "import matplotlib as mpl\n",
    "from mpl.toolkits.basemap import Basemap\n",
    "m=Basemap(projection='merc',llcrnrlat=-35.62, llcrnrlon=-17.29, urcrnrlat=37.73, urcrnrlon=51.39)\n",
    "m.fillcontinents(color='white',zorder=0)\n",
    "m.drawcoastlines(color='gray')\n",
    "m.drawcountries(color='gray')\n",
    "\n",
    "m.scatter(<lons>,<lats>, latlon=True, c=<column>, cmap=<colormap>, alpha=0.7)"
   ]
  },
  {
   "cell_type": "code",
   "execution_count": null,
   "id": "fddf77a4-24ed-42b6-8cf5-e7bbeb91bb7b",
   "metadata": {},
   "outputs": [],
   "source": []
  }
 ],
 "metadata": {
  "kernelspec": {
   "display_name": "TDI capstone",
   "language": "python",
   "name": "tdi-cs"
  },
  "language_info": {
   "codemirror_mode": {
    "name": "ipython",
    "version": 3
   },
   "file_extension": ".py",
   "mimetype": "text/x-python",
   "name": "python",
   "nbconvert_exporter": "python",
   "pygments_lexer": "ipython3",
   "version": "3.9.13"
  }
 },
 "nbformat": 4,
 "nbformat_minor": 5
}
